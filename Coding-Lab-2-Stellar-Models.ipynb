{
 "cells": [
  {
   "cell_type": "markdown",
   "id": "ed70d3fb",
   "metadata": {},
   "source": [
    "# Coding Lab 2\n",
    "## Pacakges, ndarrays, Plotting, and Numerical Integration\n",
    "## Real Stellar Models\n",
    "### ASTR-4301, Prof. Faus\n",
    "### **Due 2024 Feb 23, Start of Class**\n",
    "\n",
    "In this coding lab, we will about higher-level data structures that are useful for scientific programming. We will also learn how to make plots and figures using Python.\n",
    "\n",
    "We will use these coding tools to visualize real stellar models, and do some calculations with them.\n",
    "\n",
    "**Full Effort:** To receive a check, you need to demonstrate full effort. You should run your code in every cell (`Shift+Enter`). If the code raises an error, you should try to debug it. \n",
    "\n",
    "If you try to debug things for 2 or 3 hours but can't get it to work, make a note of where you stopped with a comment or print function in the cell. Explain in one or two sentences what the error or problem that you are seeing is and what confusion(s) it is causing you.\n",
    "\n",
    "If you don't give an explanation of why there are errors in your code cells or why you did not complete the notebook, you will receive a check-minus.\n",
    "\n",
    "A check-plus is worth extra credit---one check-plus balances a check-minus. So a check-plus gives you 1.5 percentage points on your final grade. If you want to aim for extra-credit, you have until Friday (Feb. 23) at 10am to work on the coding lab. It is worth saying that I will help you with the coding lab if you bring it to office hours or make an appointment."
   ]
  },
  {
   "cell_type": "markdown",
   "id": "f0a6cf8b",
   "metadata": {},
   "source": [
    "### 1. Packages\n",
    "\n",
    "A Package is some set of useful code or software tools that someone has devleoped and made available. In python, there are a lot of freely-available packages. You can find a large list of Packages on the Python Package Index, aka PyPI: https://pypi.org/. \n",
    "\n",
    "A Package is sometimes also called a \"module\" or a \"library.\" Especially in other languages (like C), libraries are a common term.  In some cases, there are technical meanings; for example, a python package is usually made up of one or more modules. But the basic idea for all of these terms (package, module, or library) is that these are extensions to the core language that give you more functionality.\n",
    "\n",
    "Two very important packages for scientific computing in python are `numpy` and `matplotlib`. `numpy` is short for Numeric Python. `matplotlib` is a package that will plot data for you.\n",
    "\n",
    "Both packages are very large, in terms of the number of tools and functions that are avaialbe. The packages also have a large userbase and developer base, and you can find a lot of documentation and help for using these pacakges. You should know about the websites, in case you need to find help or read the manuals:\n",
    "\n",
    "https://numpy.org/\n",
    "\n",
    "https://matplotlib.org/\n",
    "\n",
    "It is worth saying that there are other packages out there that do similar things, if not the same things, as these two. But `numpy` and `matplotlib` are probably the most standard and well-known packages.\n",
    "\n",
    "A great thing about python is that it is very easy to use packages. To access the tools, you use an `import` command, like this:\n"
   ]
  },
  {
   "cell_type": "code",
   "execution_count": null,
   "id": "638e4275",
   "metadata": {},
   "outputs": [],
   "source": [
    "import numpy\n",
    "import matplotlib\n",
    "print(\"success, move to the next cell.\")"
   ]
  },
  {
   "cell_type": "markdown",
   "id": "03cf03c9",
   "metadata": {},
   "source": [
    "This gives you access to all of the tools in numpy or matplotlib. You access them with a `.`, for example"
   ]
  },
  {
   "cell_type": "code",
   "execution_count": null,
   "id": "f8afc2c0",
   "metadata": {},
   "outputs": [],
   "source": [
    "x = [1,2,3]\n",
    "y = [2,4,8]\n",
    "dot_product = numpy.dot(x,y)\n",
    "print(dot_product)"
   ]
  },
  {
   "cell_type": "markdown",
   "id": "ffa19027",
   "metadata": {},
   "source": [
    "So, this function called `numpy.dot` calculated the dot product for 2 lists, x and y.  This function is part of the `numpy` package; in general, you need to know about/learn functions in numpy to make the best use of it.\n",
    "\n",
    "We will do some practice with `matplotlib` a bit further down.\n",
    "\n",
    "It is tedious to keep typing `numpy` or `matplotlib`. You can rename any package when you import it in python. In principle, you can name things whatever you want. In practice, people usually change `numpy` to `np`, with the following command:"
   ]
  },
  {
   "cell_type": "code",
   "execution_count": null,
   "id": "13825894",
   "metadata": {},
   "outputs": [],
   "source": [
    "import numpy as np\n",
    "\n",
    "x = [1,2,3]\n",
    "y = [2,4,8]\n",
    "dot_product = np.dot(x,y)\n",
    "print(dot_product)"
   ]
  },
  {
   "cell_type": "markdown",
   "id": "0045cf5f",
   "metadata": {},
   "source": [
    "The best thing to do is to import all of your tools at the very start of your program or notebook---we have already taken care of that."
   ]
  },
  {
   "cell_type": "markdown",
   "id": "dd792c2e",
   "metadata": {},
   "source": [
    "### 2. Data Structures and the ndarray\n",
    "\n",
    "Most packages give you new data structures. We already encountered one kind of data structure, the list.  Remember, for example, that we can add objects to a list in the following way:"
   ]
  },
  {
   "cell_type": "code",
   "execution_count": null,
   "id": "5a2fe665",
   "metadata": {},
   "outputs": [],
   "source": [
    "sample_list = [1,2.2, 3.3]\n",
    "print('print statement 1:',sample_list)\n",
    "\n",
    "for ii in range(5):\n",
    "    sample_list.append(4.4 + ii*1.1)\n",
    "print('print 2, after appending elements',sample_list)"
   ]
  },
  {
   "cell_type": "markdown",
   "id": "54dd044b",
   "metadata": {},
   "source": [
    "A list can do other things as well:"
   ]
  },
  {
   "cell_type": "code",
   "execution_count": null,
   "id": "53046aa4",
   "metadata": {},
   "outputs": [],
   "source": [
    "#add an element to the middle of a list\n",
    "\n",
    "#first argument of `insert` is the index number, second element is the thing you want to insert\n",
    "sample_list.insert(2, 9.9)\n",
    "\n",
    "#here, you will see that `9.9` has been put in the 3rd place in the list\n",
    "print('Contents of sample list after inserting 9.9 in the 3rd index:')\n",
    "print(sample_list)\n",
    "\n",
    "#sort the list\n",
    "#there is a function called sort, you call it with no arguments and it will sort your data structure\n",
    "sample_list.sort()\n",
    "print('Contents of sample list after sorting:')\n",
    "print(sample_list)"
   ]
  },
  {
   "cell_type": "markdown",
   "id": "3c654372",
   "metadata": {},
   "source": [
    "In some ways, what makes a list a data structure is that (a) it serves as a container for the data, and (b) gives you functions to do things with the data.\n",
    "\n",
    "Two short-comings of lists are (1) math and function operations are hard, because you have to look up the elements of the list with the index; so usually you do operations on lists in a loop. (2) Looping over a list in python is not very efficient; it can be slow to do a loop over millions of elements in a list."
   ]
  },
  {
   "cell_type": "code",
   "execution_count": null,
   "id": "a81cfd55",
   "metadata": {},
   "outputs": [],
   "source": [
    "#If I want to add 100 to every element in the list, I have to do this:\n",
    "for ii in range(len(sample_list)):\n",
    "    sample_list[ii] = sample_list[ii] + 100\n",
    "print(sample_list)\n",
    "\n",
    "\n",
    "#but this code will cause a TypeError\n",
    "sample_list + 100\n"
   ]
  },
  {
   "cell_type": "markdown",
   "id": "f8125e55",
   "metadata": {},
   "source": [
    "However, `numpy` has a special data structure called the `ndarray`, which fixes both of these problems. `ndarrays` make math very easy for a collection of data elements. `ndarray` objects are also super efficient, and can do lots of operations across the array quickly. (Under the hood, a lot of `numpy` is written in C, which runs very quickly on loops.)"
   ]
  },
  {
   "cell_type": "code",
   "execution_count": null,
   "id": "8212fd44",
   "metadata": {},
   "outputs": [],
   "source": [
    "#We can build an ndarray in different ways. For example, we can convert a list to an ndarray\n",
    "print(type(sample_list))\n",
    "sample_list = np.array(sample_list)\n",
    "print(type(sample_list))\n",
    "print(sample_list)\n",
    "print(sample_list + 100)"
   ]
  },
  {
   "cell_type": "markdown",
   "id": "6840d801",
   "metadata": {},
   "source": [
    "`ndarrays` get even better. If you want to do operations on ndarrays of the same size, `numpy` matches elements, one at a time.  This is called \"vectorization.\" It makes our code much easier ot read, because we don't need to loop over the data structs. We can also assign a variable name to an ndarray and use it in an equation."
   ]
  },
  {
   "cell_type": "code",
   "execution_count": null,
   "id": "6e3f3559",
   "metadata": {},
   "outputs": [],
   "source": [
    "#in the last coding lab, we caulculated the area of an ellipse like this.\n",
    "major_axis = [1.1, 2.2, 3.3, 4.4 ]\n",
    "minor_axis = [0.1, 0.2, 0.3, 0.4 ]\n",
    "#BTW, numpy has some built in constants, like pi\n",
    "#so we don't need to define it for ourselves\n",
    "#pi = 3.14159\n",
    "print(np.pi)\n",
    "\n",
    "for ii in range(len( major_axis)):\n",
    "    major_axis_use = major_axis[ii]\n",
    "    minor_axis_use = minor_axis[ii]\n",
    "    area_of_ellipse = np.pi*major_axis_use*minor_axis_use\n",
    "    \n",
    "    print('area of ellipse ', ii,':  ', area_of_ellipse)\n",
    "\n",
    "\n",
    "#Notice how much easier it is to read with ndarrays. \n",
    "major_axis = np.array([1.1, 2.2, 3.3, 4.4 ])\n",
    "minor_axis = np.array([0.1, 0.2, 0.3, 0.4 ])\n",
    "areas = np.pi*major_axis*minor_axis\n",
    "print(areas)\n",
    "\n",
    "#The ndarrays also do the arithmetic faster than the lists. \n",
    "#We might notice this if we tried to do a lists with a million elements or so"
   ]
  },
  {
   "cell_type": "markdown",
   "id": "d17971ad",
   "metadata": {},
   "source": [
    "By default, you should usually plan to use ndarrays in `numpy`. When doing data science with python or scientific computing, ndarrays are one of the best options. (I would argue they are the best overall, but that is an opinion.)\n",
    "\n",
    "Here are some other important and useful numpy functions.  See also the `numpy` tutorial for beginners (https://numpy.org/doc/stable/user/absolute_beginners.html) and `numpy` fundamentals (https://numpy.org/doc/stable/user/basics.html)."
   ]
  },
  {
   "cell_type": "code",
   "execution_count": null,
   "id": "a80f6857",
   "metadata": {},
   "outputs": [],
   "source": [
    "#ways to make an ndarray:\n",
    "\n",
    "#make a new array. The two arguments set the begining and end\n",
    "new_array1 = np.arange(1,11)\n",
    "print('new_array1:',new_array1)\n",
    "\n",
    "#the third argument sents the spacing\n",
    "new_array2 = np.arange(1,11, 0.2)\n",
    "print('new_array2:',new_array2)\n",
    "\n",
    "#if you don't know the spacing but know the number of elements that you want\n",
    "#in this case, we make it with 30 elements, evenly spaced\n",
    "new_array3 = np.linspace(1,11,30)\n",
    "print('lenght of new_array3:',len(new_array3))\n",
    "print('new_array3:',new_array3)\n",
    "\n",
    "\n",
    "#make a new array that is all ones or zeros\n",
    "#the argument gives the size of the array you need)\n",
    "array_of_zeros = np.zeros(10)\n",
    "print('array_of_zeros:',array_of_zeros)\n",
    "\n",
    "array_of_ones = np.ones(15)\n",
    "print('array_of_ones',array_of_ones)\n",
    "\n"
   ]
  },
  {
   "cell_type": "code",
   "execution_count": null,
   "id": "135ee955",
   "metadata": {},
   "outputs": [],
   "source": [
    "#the `nd` part of `ndarray` is N-Dimensions. Here is a 1-D, 2-D, 3-D, and 4-D array\n",
    "x1d = np.arange(0,3)\n",
    "print('The shape of x1d is:',np.shape(x1d))\n",
    "print(x1d)\n",
    "x2d = np.arange(0,9).reshape(3,3)\n",
    "print('The shape of x2d is:',np.shape(x2d))\n",
    "print(x2d)\n",
    "x3d = np.arange(0,27).reshape(3,3,3)\n",
    "print('The shape of x3d is:',np.shape(x3d))\n",
    "print(x3d)\n",
    "x4d = np.arange(0,81).reshape(3,3,3,3)\n",
    "print('The shape of x4d is:',np.shape(x4d))\n",
    "print(x4d)"
   ]
  },
  {
   "cell_type": "code",
   "execution_count": null,
   "id": "75fd9a60",
   "metadata": {},
   "outputs": [],
   "source": [
    "#numpy functions to act on ndarrays\n",
    "x = np.arange(1,11)\n",
    "print('log_10 of x', np.log10(x))\n",
    "print('log of x',    np.log(x))\n",
    "print('sqrt(x)',     np.sqrt(x))\n",
    "print('x^2', np.power(x,2))\n",
    "print('e^x', np.exp(x))"
   ]
  },
  {
   "cell_type": "markdown",
   "id": "0fc1cdca",
   "metadata": {},
   "source": [
    "### 3. Plotting\n",
    "\n",
    "The package for plotting is `matplotlib`. Plotting is quite complicated, because you need some software that controls what pixel data the computer knows about, some software that knows how to draw x-y values in those coordiantes (and translate for the computer), and some software that controls how the computer tells the display device (your screen or monitor) how to draw the data. \n",
    "\n",
    "In many cases, the scientist doesn't care at all about these things, so a popular model is to separate software tools that the user will use (the scientist) from all of the backend stuff that lets the computer draw graphics. Matplotlib works just like this:"
   ]
  },
  {
   "cell_type": "code",
   "execution_count": null,
   "id": "043385f7",
   "metadata": {},
   "outputs": [],
   "source": [
    "#import matplotlib tools\n",
    "import matplotlib\n",
    "\n",
    "#set default size of the figures\n",
    "matplotlib.rcParams['figure.figsize'] = (4,4)\n",
    "\n",
    "#this line tells python to draw the plots inside of this jupyter notebook. \n",
    "#So when you plot something, it displays below the code cell\n",
    "%matplotlib inline\n",
    "\n",
    "\n",
    "#all of the user tools are in a module (library) called matplotlib.pyplot. \n",
    "#It is customary to call this set of tools `plot`\n",
    "import matplotlib.pyplot as plt\n"
   ]
  },
  {
   "cell_type": "markdown",
   "id": "0ac1c84a",
   "metadata": {},
   "source": [
    "The key function in `pyplot` is called `plot` (invoked with `plt.plot`). This function takes as the first argument the x-values (in a list or ndarray) and as the second argument the y-values.\n",
    "\n",
    "There are also **keywords** in the plot function, which are variables you can name for a function when the user inputs a value. \n",
    "\n",
    "In `pyplot`, you can change the way the plot looks using the keywords."
   ]
  },
  {
   "cell_type": "code",
   "execution_count": null,
   "id": "840c59a5",
   "metadata": {},
   "outputs": [],
   "source": [
    "#plot a straight line, with slope of 3 and y-intercept of 10\n",
    "x = np.arange(-5,5.25,0.25)\n",
    "y = 3*x + 10\n",
    "\n",
    "#black circles with no connections\n",
    "plt.plot(x,y,color='black', marker='o', linestyle=\"None\")"
   ]
  },
  {
   "cell_type": "code",
   "execution_count": null,
   "id": "654c8d5f",
   "metadata": {},
   "outputs": [],
   "source": [
    "#plot a parabola with y-intercept of 10\n",
    "x = np.arange(-5,5.25,0.25)\n",
    "y = x**2 + 10\n",
    "\n",
    "#red stars with dashed line connection\n",
    "plt.plot(x,y,color='red', marker='^', linestyle=\"--\")"
   ]
  },
  {
   "cell_type": "markdown",
   "id": "0d309324",
   "metadata": {},
   "source": [
    "You can plot several lines in the same figure.  \n",
    "\n",
    "There are also functions to change the x and y axis, and add labels.\n",
    "\n",
    "You can also make a legend.\n",
    "\n",
    "Here are examples of all three:"
   ]
  },
  {
   "cell_type": "code",
   "execution_count": null,
   "id": "f12c8cb5",
   "metadata": {},
   "outputs": [],
   "source": [
    "x = np.arange(-5,5.25,0.25)\n",
    "\n",
    "line = 3*x + 10\n",
    "parabola = x**2 + 10\n",
    "quartic = x**4 + x**3 - 6*x**2 +  12*x + 10\n",
    "\n",
    "#We add the \"label\" keyword, as the string that will\n",
    "#appear in the legend\n",
    "plt.plot(x, line, color='black', marker='o',linestyle=\"None\", label=\"line\")\n",
    "\n",
    "plt.plot(x, parabola, color='red', marker='^', linestyle=\"--\", label=\"parabola\")\n",
    "\n",
    "#the 's' is for square\n",
    "plt.plot(x, quartic, color='blue', marker='s', linestyle=\"-\", label=\"quartic\")\n",
    "\n",
    "plt.legend(loc=\"lower right\")\n",
    "\n",
    "plt.ylim([-100,100])\n",
    "plt.xlim([-6,6])\n",
    "\n",
    "plt.ylabel('y-coordinate')\n",
    "plt.xlabel('x-coordinate')"
   ]
  },
  {
   "cell_type": "markdown",
   "id": "c90ecd94",
   "metadata": {},
   "source": [
    "### 4. Real Stellar Models\n",
    "\n",
    "We now have enough tools that we can engage with some real stellar models.\n",
    "\n",
    "I submitted a couple of stellar models over the weekend. We will use the 1.0 M$_\\odot$ star model.\n",
    "\n",
    "The first thing we do is pull the data to our working cloud directory. Run the code cell below and move to the next directory."
   ]
  },
  {
   "cell_type": "code",
   "execution_count": null,
   "id": "a8f452cc",
   "metadata": {},
   "outputs": [],
   "source": [
    "!wget https://raw.githubusercontent.com/mmfausnaugh/astr4301-coding-lab-2/main/MESA-Web_Job_02182425344.zip\n",
    "    \n",
    "!unzip MESA-Web_Job_02182425344.zip\n",
    "\n",
    "\n",
    "print('success, proceed to next cell')"
   ]
  },
  {
   "cell_type": "markdown",
   "id": "6566890f",
   "metadata": {},
   "source": [
    "This will make 3 folders in the working directory, which you should be able to see in the navigation panel to the left.  The numbers are unique IDs for the model run. 0218 stands for February 18th; the rest of the numbers are increments to keep track of how many people are using the online service.\n",
    "\n",
    "Inside these directories are several files. Stellar evolution codes calculate both the spatial-dependent part of the differential equations (which we know a lot about) and the time-dependent part (which we don't know anything about). So these directories are a mess because they have stellar models for several different times over the stars life.\n",
    "\n",
    "Let's start with the solar mass model. I've selected the model for the time that is roughly as old as our own Sun; so this is a numerical model similar to what we think is really going on in the Sun. Run the code cell below to load the data and plot radius as a function of mass coordinate.\n",
    "\n",
    "The data is in `MESA-Web_Job_02182425344/profile8.data`. This is a text file with a lot of columns---56, to be exact. The first column is mass, which is the independent variable. Each other column gives us everything we want to know about the star at that specific mass shell.\n",
    "\n",
    "You can see the full list of columns here: http://user.astro.wisc.edu/~townsend/static.php?ref=mesa-web-output#Profile_Output\n",
    "\n",
    "But I have loaded everything into ndarrays for you:"
   ]
  },
  {
   "cell_type": "code",
   "execution_count": null,
   "id": "5f8b3dc0",
   "metadata": {},
   "outputs": [],
   "source": [
    "#notice that it is a numpy function that knows how to load the data.\n",
    "#numpy has a number of functions used to read data from csv or text files.\n",
    "\n",
    "data =  np.genfromtxt('MESA-Web_Job_02182425344/profile8.data',skip_header=5,names=True)\n",
    "mass            = data['mass'][::-1]\n",
    "radius          = data['radius'][::-1]\n",
    "luminosity      = data['luminosity'][::-1]\n",
    "pressure        = data['pressure'][::-1]\n",
    "#note that these are base_10 logarithms\n",
    "log_density     = data['logRho'][::-1]\n",
    "log_temperature = data['logT'][::-1]\n",
    "\n",
    "opacity         = data['opacity'][::-1]\n",
    "#energy generation\n",
    "energy_gen_total= data['eps_nuc'][::-1]\n",
    "#energy generation from pp-chain only\n",
    "energy_gen_pp   = data['pp'][::-1]\n",
    "energy_gen_cno  = data['cno'][::-1]\n",
    "energy_gen_3a   = data['tri_alfa'][::-1]\n",
    "\n",
    "#start with the simplest thing: plot radius vs mass\n",
    "\n",
    "plt.plot(mass, radius, color='black', marker='.', linestyle='None')\n",
    "plt.xlabel('mass coordinate (M$_\\odot$)')\n",
    "plt.ylabel('radius coordinate (R$_\\odot$)')"
   ]
  },
  {
   "cell_type": "markdown",
   "id": "a8617af2",
   "metadata": {},
   "source": [
    "OK, there are a lot of points, so it drew a thick line. Let's redraw it with no points, but a line connecting each point.  Let's also plot the other variables we've been studying: pressure, density, temperature, luminosity, opacity, and energy generation"
   ]
  },
  {
   "cell_type": "code",
   "execution_count": null,
   "id": "d8960ba3",
   "metadata": {},
   "outputs": [],
   "source": [
    "plt.plot(mass, radius, color='black', marker='None', linestyle='-')\n",
    "plt.xlabel('mass coordinate (M$_\\odot$)')\n",
    "plt.ylabel('radius coordinate (R$_\\odot$)')\n",
    "\n",
    "#makes a new figure\n",
    "plt.figure()\n",
    "\n",
    "plt.plot(mass, log_density, color='b',marker='None',linestyle='-')\n",
    "plt.xlabel('mass coordinate (M$_\\odot$)')\n",
    "plt.ylabel('log$_{10}$ density [g/cm$^3$]')\n",
    "\n",
    "plt.figure()\n",
    "plt.plot(mass, pressure, color='c',marker='None',linestyle='-')\n",
    "plt.xlabel('mass coordinate (M$_\\odot$)')\n",
    "plt.ylabel('Pressure (dyn/cm$^2$)')\n",
    "\n",
    "plt.figure()\n",
    "plt.plot(mass, log_temperature, color='r',marker='None',linestyle='-')\n",
    "plt.xlabel('mass coordinate (M$_\\odot$)')\n",
    "plt.ylabel('log$_{10}$ Temperature [Kelvin]')\n",
    "\n",
    "plt.figure()\n",
    "plt.plot(mass, opacity, color='g',marker='None',linestyle='-')\n",
    "plt.xlabel('mass coordinate (M$_\\odot$)')\n",
    "plt.ylabel('opacity (cm$^2$ /g)')\n",
    "\n",
    "\n",
    "plt.figure()\n",
    "plt.plot(mass, luminosity, color='m',marker='None',linestyle='-')\n",
    "plt.xlabel('mass coordinate (M$_\\odot$)')\n",
    "plt.ylabel('Luminosity  (L$_\\odot$)')\n",
    "\n",
    "plt.figure()\n",
    "plt.plot(mass, energy_gen_total, color='orange',marker='None',linestyle='-')\n",
    "plt.xlabel('mass coordinate (M$_\\odot$)')\n",
    "plt.ylabel('$\\epsilon_{\\\\rm nuclear}$ (erg/g/s)')\n",
    "\n"
   ]
  },
  {
   "cell_type": "markdown",
   "id": "96bcd785",
   "metadata": {},
   "source": [
    "### 5. Questions\n",
    "\n",
    "1) Qualitatively, what do you notice when comparing the temperature figure to the oppacity figure? What do you notice when comparing the luminsoity plot to the energy generation plot? Write your answer in 1--4 complete sentences below (use either comments or the print function)."
   ]
  },
  {
   "cell_type": "code",
   "execution_count": null,
   "id": "d5cde615-ebaf-4e7e-9d97-159c3da7b6a3",
   "metadata": {},
   "outputs": [],
   "source": [
    "#put your answer in this cell\n",
    "\n",
    "\n"
   ]
  },
  {
   "cell_type": "markdown",
   "id": "3f13ed65-8679-4c9b-bd5f-bfbb9558b424",
   "metadata": {},
   "source": [
    "2) **Numerical Intetgration.** The equation for mass conservation is\n",
    "$$ dm = 4\\pi\\rho(r)r^2\\,dr $$\n",
    "so the total mass is\n",
    "$$ M = \\int_0^Mdm = \\int_0^R 4\\pi \\rho(r) r^2\\, dr$$\n",
    "On the other hand, an integral is defined as\n",
    "$$\\int f(x)dx = \\lim_{\\Delta x -> \\infty} \\sum_i f(x_i)\\Delta x_i $$\n",
    "which means you can approximate an integral by summing up many small rectangles with width $\\Delta x$ and height $f(x)$.\n",
    "Computers are very good at repetitively summing things, and numpy has functions to do the rectangle-summing for you. This approach is called Numerical Integration. For example, you can verify that the following code is an excellent approximation for this definite integral:\n",
    "$$\\int_0^3 x^3\\,dx = \\left[ \\frac{x^3}{3}\\right]_0^3 = 9$$\n",
    "(after running this code cell below, proceed to the next cell)"
   ]
  },
  {
   "cell_type": "code",
   "execution_count": null,
   "id": "92af79d0-f745-49d2-b7e0-3b3ee9665c63",
   "metadata": {},
   "outputs": [],
   "source": [
    "#make x values between 0 and 3, with 1000 samples \n",
    "x = np.linspace(0,3,1000)\n",
    "#evaluate function at these values\n",
    "rectangle_heights = x**2\n",
    "\n",
    "#np.trapz is trapezoidal numerical integration. For the heights of the reactangles, \n",
    "#you average f(x1) and f(x2)\n",
    "#the first argument is the function values, the second argument is the x-values.\n",
    "\n",
    "area = np.trapz(rectangle_heights,x)\n",
    "print('the numerical integration gives:',area)\n",
    "\n",
    "print('continue to next code block')"
   ]
  },
  {
   "cell_type": "markdown",
   "id": "e3bddebb-45ee-4fae-9024-97e2800423be",
   "metadata": {},
   "source": [
    "Using `np.trapz`, numerically integrate the density profile (ndarray variable called density `density`) and verify that the total stellar mass is about 1 solar mass."
   ]
  },
  {
   "cell_type": "code",
   "execution_count": null,
   "id": "b788016d-9659-406d-b0d1-907dee7ff5b5",
   "metadata": {},
   "outputs": [],
   "source": [
    "#use the `density` ndarray and the `radius` ndarray to calculate the integrand at each radius\n",
    "density = np.power(10,log_density) #remove log, density is in g/cm^3\n",
    "radius_cm = radius*6.89e10 #convert solar radius to cm\n",
    "#use these variables\n",
    "print(len(density))\n",
    "print(len(radius_cm))\n",
    "\n",
    "###################################################\n",
    "#calculate what the heights of the reactangles here\n",
    "rectangle_heights = \n",
    "####################################################\n",
    "\n",
    "total_mass = np.trapz(rectangle_heights, radius_cm)\n",
    "\n",
    "print(\"The total mass in grams is:\",total_mass)"
   ]
  },
  {
   "cell_type": "markdown",
   "id": "8ee87553-d45c-4699-a80c-cec41261bfa1",
   "metadata": {},
   "source": [
    "3) Along the same lines, we can numerically integrate the equation for hydrostatic equillibrium to get the pressure at the core,\n",
    "   $$\\int_{P_{\\rm core}}^0 \\frac{dP}{dm}\\,dm = -P_{\\rm core} = \\int_0^M -\\frac{Gm}{4\\pi r^4}\\,dm $$.\n",
    "\n",
    "   Using `np.trapz`, numerically integrate $Gm/4\\pi r^4$ and confirm that your answer is close to the central pressure."
   ]
  },
  {
   "cell_type": "code",
   "execution_count": null,
   "id": "f4fd88cb-ccaf-42da-addf-07974935bf8e",
   "metadata": {},
   "outputs": [],
   "source": [
    "\n",
    "mass_g = mass*1.9885e33 #convert to grams\n",
    "radius_cm = radius*6.89e10 #convert solar radius to cm\n",
    "\n",
    "#use these variables\n",
    "G = 6.67e-8 #cgs units\n",
    "print(len(mass_g))\n",
    "print(len(radius_cm))\n",
    "\n",
    "###################################################\n",
    "#calculate what the heights of the reactangles here\n",
    "rectangle_heights = \n",
    "###################################################\n",
    "\n",
    "central_pressure = np.trapz(rectangle_heights, mass_g)\n",
    "\n",
    "print(\"The central pressure in dyn/cm^2 is :\",central_pressure)\n",
    "print(\"The central pressure from the model is\",pressure[0], \"(pressure were r is \",radius[0],\")\")"
   ]
  },
  {
   "cell_type": "markdown",
   "id": "574ca799-6a2c-459d-9a19-a3fc82922fe9",
   "metadata": {},
   "source": [
    "(4) Consider the nuclear energy generation rate, which is the sum of all the nuclear reactions $\\epsilon = \\epsilon_{pp} + \\epsilon_{CNO} + \\epsilon_{3\\alpha}$. \n",
    "\n",
    "- Plot the star's profile for all three energy generations rates in one figure.\n",
    "- Based on this plot, at what fraction of the way through the star has most of the energy generation ceased? What does this imply for nuclear reactions in the outler layers of the star? Give your answers in comments or print statements in the following cell block.\n",
    "- You can use another numpy function `np.sum` to add up the energy generation rate across mass shells. What fraction of the total energy generation rate is from the CNO cycle? What fraction is from the triple alpha process?"
   ]
  },
  {
   "cell_type": "code",
   "execution_count": null,
   "id": "25bf4b78-4eb0-4589-8c3c-17808275fdc4",
   "metadata": {},
   "outputs": [],
   "source": [
    "#use these variables\n",
    "print(len(energy_gen_total))\n",
    "print(len(energy_gen_pp))\n",
    "print(len(energy_gen_cno))\n",
    "print(len(energy_gen_3a))\n",
    "\n",
    "#part a\n",
    "#here is a template for you to copy. \n",
    "#You need to plot the other three ndarrays\n",
    "plt.plot(mass, energy_gen_total,'orange',marker='None',linestyle='-',label='Total')\n",
    "\n",
    "\n",
    "plt.legend(loc='upper right')\n",
    "plt.xlabel('mass coordinate (M$_\\odot$)')\n",
    "plt.ylabel('$\\epsilon_{\\\\rm nuclear}$ (erg/g/s)')\n",
    "\n",
    "#part b\n",
    "##replace text below with your answers\n",
    "print(\"The energy generation has mostly ceased by M = \", )\n",
    "print(\"comment on nuclear reactions in out parts of the star\")\n",
    "\n",
    "#part c\n",
    "#this is how you use the `np.sum` function\n",
    "#to add up the total energy generation rate through the star.\n",
    "e_star = np.sum(energy_gen_total)\n",
    "\n",
    "#you need to figure out how to do the same thing\n",
    "#for energy generation in the pp-chain, CNO cycle, and triple-alpha process\n",
    "\n",
    "\n",
    "#give your answers here\n",
    "print(\"The fraction of energy generation from the CNO cycle is: \", )\n",
    "print(\"The fraction of energy generation from the triple-alpha process is: \", )\n"
   ]
  },
  {
   "cell_type": "markdown",
   "id": "1d6d783f-c5bf-4f57-9a6c-5f15f8d54609",
   "metadata": {},
   "source": [
    "5) Numerically integrate\n",
    "$$\\int_0^M \\frac{dl}{dm}\\,dm = \\int_0^{M} \\epsilon(m)\\, dm $$\n",
    "and show that the result gives the total luminosity of the star."
   ]
  },
  {
   "cell_type": "code",
   "execution_count": null,
   "id": "34e380cc-d496-4bf8-a88c-69bd0429cd66",
   "metadata": {},
   "outputs": [],
   "source": [
    "\n",
    "mass_g = mass*1.9885e33 #convert to grams\n",
    "luminosity_erg_per_s = luminosity*3.823e33 #convert solar luminosity to ergs per second\n",
    "\n",
    "#use these variables\n",
    "print(len(mass_g))\n",
    "print(len(luminosity_erg_per_s))\n",
    "print(len(energy_gen_total)) #already in erg/s/g"
   ]
  }
 ],
 "metadata": {
  "kernelspec": {
   "display_name": "Python 3 (ipykernel)",
   "language": "python",
   "name": "python3"
  },
  "language_info": {
   "codemirror_mode": {
    "name": "ipython",
    "version": 3
   },
   "file_extension": ".py",
   "mimetype": "text/x-python",
   "name": "python",
   "nbconvert_exporter": "python",
   "pygments_lexer": "ipython3",
   "version": "3.10.4"
  }
 },
 "nbformat": 4,
 "nbformat_minor": 5
}
