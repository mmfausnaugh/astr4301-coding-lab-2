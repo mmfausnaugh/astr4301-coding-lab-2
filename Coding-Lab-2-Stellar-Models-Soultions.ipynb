{
 "cells": [
  {
   "cell_type": "markdown",
   "id": "b027bb7a",
   "metadata": {},
   "source": [
    "# Coding Lab 2\n",
    "## Pacakges, ndarrays, Plotting, and Numerical Integration\n",
    "## Real Stellar Models\n",
    "### AST4301, Prof. Faus\n",
    "### **Due 2024 Feb 23, Start of Class**\n",
    "\n",
    "In this coding lab, we will about higher-level data structures that are useful for scientific programming. We will also learn how to make plots and figures using Python.\n",
    "\n",
    "We will use these coding tools to visualize real stellar models, and do some calculations with them.\n",
    "\n",
    "**Full Effort:** To receive a check, you need to demonstrate full effort. You should run your code in every cell (`Shift+Enter`). If the code raises an error, you should try to debug it. \n",
    "\n",
    "If you try to debug things for 2 or 3 hours but can't get it to work, make a note of where you stopped with a comment or print function in the cell. Explain in one or two sentences what the error or problem that you are seeing is and what confusion(s) it is causing you.\n",
    "\n",
    "If you don't give an explanation of why there are errors in your code cells or why you did not complete the notebook, you will receive a check-minus.\n",
    "\n",
    "A check-plus is worth extra credit---one check-plus balances a check-minus. So a check-plus gives you 1.5 percentage points on your final grade. If you want to aim for extra-credit, you have until Friday (Feb. 23) at 10am to work on the coding lab. It is worth saying that I will help you with the coding lab if you bring it to office hours or make an appointment."
   ]
  },
  {
   "cell_type": "markdown",
   "id": "2864e636",
   "metadata": {},
   "source": [
    "### 1. Packages\n",
    "\n",
    "A Package is some set of useful code or software tools that someone has devleoped and made available. In python, there are a lot of freely-available packages. You can find a large list of Packages on the Python Package Index, aka PyPI: https://pypi.org/. \n",
    "\n",
    "A Package is sometimes also called a \"module\" or a \"library.\" Especially in other languages (like C), libraries are a common term.  In some cases, there are technical meanings; for example, a python package is usually made up of one or more modules. But the basic idea for all of these terms (package, module, or library) is that these are extensions to the core language that give you more functionality.\n",
    "\n",
    "Two very important packages for scientific computing in python are `numpy` and `matplotlib`. `numpy` is short for Numeric Python. `matplotlib` is a package that will plot data for you.\n",
    "\n",
    "Both packages are very large, in terms of the number of tools and functions that are avaialbe. The packages also have a large userbase and developer base, and you can find a lot of documentation and help for using these pacakges. You should know about the websites, in case you need to find help or read the manuals:\n",
    "\n",
    "https://numpy.org/\n",
    "\n",
    "https://matplotlib.org/\n",
    "\n",
    "It is worth saying that there are other packages out there that do similar things, if not the same things, as these two. But `numpy` and `matplotlib` are probably the most standard and well-known packages.\n",
    "\n",
    "A great thing about python is that it is very easy to use packages. To access the tools, you use an `import` command, like this:\n"
   ]
  },
  {
   "cell_type": "code",
   "execution_count": 1,
   "id": "d9daeddb",
   "metadata": {},
   "outputs": [],
   "source": [
    "import numpy\n",
    "import matplotlib"
   ]
  },
  {
   "cell_type": "markdown",
   "id": "c7e8d7d5",
   "metadata": {},
   "source": [
    "This gives you access to all of the tools in numpy or matplotlib. You access them with a `.`, for example"
   ]
  },
  {
   "cell_type": "code",
   "execution_count": 5,
   "id": "9e412087",
   "metadata": {},
   "outputs": [
    {
     "name": "stdout",
     "output_type": "stream",
     "text": [
      "34\n"
     ]
    }
   ],
   "source": [
    "x = [1,2,3]\n",
    "y = [2,4,8]\n",
    "dot_product = numpy.dot(x,y)\n",
    "print(dot_product)"
   ]
  },
  {
   "cell_type": "markdown",
   "id": "9199125e",
   "metadata": {},
   "source": [
    "So, this function called `numpy.dot` calculated the dot product for 2 lists, x and y.  This function is part of the `numpy` package; in general, you need to know about/learn functions in numpy to make the best use of it.\n",
    "\n",
    "We will do some practice with `matplotlib` a bit further down.\n",
    "\n",
    "It is tedious to keep typing `numpy` or `matplotlib`. You can rename any package when you import it in python. In principle, you can name things whatever you want. In practice, people usually change `numpy` to `np`, with the following command:"
   ]
  },
  {
   "cell_type": "code",
   "execution_count": 74,
   "id": "0ebf422d",
   "metadata": {},
   "outputs": [
    {
     "name": "stdout",
     "output_type": "stream",
     "text": [
      "34\n"
     ]
    }
   ],
   "source": [
    "import numpy as np\n",
    "\n",
    "x = [1,2,3]\n",
    "y = [2,4,8]\n",
    "dot_product = np.dot(x,y)\n",
    "print(dot_product)"
   ]
  },
  {
   "cell_type": "markdown",
   "id": "f7243baf",
   "metadata": {},
   "source": [
    "The best thing to do is to import all of your tools at the very start of your program or notebook---we have already taken care of that."
   ]
  },
  {
   "cell_type": "markdown",
   "id": "955cc629",
   "metadata": {},
   "source": [
    "### 2. Data Structures and the ndarray\n",
    "\n",
    "Most packages give you new data structures. We already encountered one kind of data structure, the list.  Remember, for example, that we can add objects to a list in the following way:"
   ]
  },
  {
   "cell_type": "code",
   "execution_count": 76,
   "id": "acd00c61",
   "metadata": {},
   "outputs": [
    {
     "name": "stdout",
     "output_type": "stream",
     "text": [
      "print statement 1: [1, 2.2, 3.3]\n",
      "print 2, after appending elements [1, 2.2, 3.3, 4.4, 5.5, 6.6000000000000005, 7.700000000000001, 8.8]\n"
     ]
    }
   ],
   "source": [
    "sample_list = [1,2.2, 3.3]\n",
    "print('print statement 1:',sample_list)\n",
    "\n",
    "for ii in range(5):\n",
    "    sample_list.append(4.4 + ii*1.1)\n",
    "print('print 2, after appending elements',sample_list)"
   ]
  },
  {
   "cell_type": "markdown",
   "id": "dca1af6e",
   "metadata": {},
   "source": [
    "A list can do other things as well:"
   ]
  },
  {
   "cell_type": "code",
   "execution_count": 77,
   "id": "f55b77c9",
   "metadata": {},
   "outputs": [
    {
     "name": "stdout",
     "output_type": "stream",
     "text": [
      "Contents of sample list after inserting 9.9 in the 3rd index:\n",
      "[1, 2.2, 9.9, 3.3, 4.4, 5.5, 6.6000000000000005, 7.700000000000001, 8.8]\n",
      "Contents of sample list after sorting:\n",
      "[1, 2.2, 3.3, 4.4, 5.5, 6.6000000000000005, 7.700000000000001, 8.8, 9.9]\n"
     ]
    }
   ],
   "source": [
    "#add an element to the middle of a list\n",
    "\n",
    "#first argument of `insert` is the index number, second element is the thing you want to insert\n",
    "sample_list.insert(2, 9.9)\n",
    "\n",
    "#here, you will see that `9.9` has been put in the 3rd place in the list\n",
    "print('Contents of sample list after inserting 9.9 in the 3rd index:')\n",
    "print(sample_list)\n",
    "\n",
    "#sort the list\n",
    "#there is a function called sort, you call it with no arguments and it will sort your data structure\n",
    "sample_list.sort()\n",
    "print('Contents of sample list after sorting:')\n",
    "print(sample_list)"
   ]
  },
  {
   "cell_type": "markdown",
   "id": "96a5c97c",
   "metadata": {},
   "source": [
    "In some ways, what makes a list a data structure is that (a) it serves as a container for the data, and (b) gives you functions to do things with the data.\n",
    "\n",
    "Two short-comings of lists are (1) math and function operations are hard, because you have to look up the elements of the list with the index; so usually you do operations on lists in a loop. (2) Looping over a list in python is not very efficient; it can be slow to do a loop over millions of elements in a list."
   ]
  },
  {
   "cell_type": "code",
   "execution_count": 79,
   "id": "e9114f04",
   "metadata": {},
   "outputs": [
    {
     "name": "stdout",
     "output_type": "stream",
     "text": [
      "[201, 202.2, 203.3, 204.4, 205.5, 206.6, 207.7, 208.8, 209.9]\n"
     ]
    },
    {
     "ename": "TypeError",
     "evalue": "can only concatenate list (not \"int\") to list",
     "output_type": "error",
     "traceback": [
      "\u001b[0;31m---------------------------------------------------------------------------\u001b[0m",
      "\u001b[0;31mTypeError\u001b[0m                                 Traceback (most recent call last)",
      "Input \u001b[0;32mIn [79]\u001b[0m, in \u001b[0;36m<cell line: 8>\u001b[0;34m()\u001b[0m\n\u001b[1;32m      4\u001b[0m \u001b[38;5;28mprint\u001b[39m(sample_list)\n\u001b[1;32m      7\u001b[0m \u001b[38;5;66;03m#but this code will cause a TypeError\u001b[39;00m\n\u001b[0;32m----> 8\u001b[0m \u001b[43msample_list\u001b[49m\u001b[43m \u001b[49m\u001b[38;5;241;43m+\u001b[39;49m\u001b[43m \u001b[49m\u001b[38;5;241;43m100\u001b[39;49m\n",
      "\u001b[0;31mTypeError\u001b[0m: can only concatenate list (not \"int\") to list"
     ]
    }
   ],
   "source": [
    "#If I want to add 100 to every element in the list, I have to do this:\n",
    "for ii in range(len(sample_list)):\n",
    "    sample_list[ii] = sample_list[ii] + 100\n",
    "print(sample_list)\n",
    "\n",
    "\n",
    "#but this code will cause a TypeError\n",
    "sample_list + 100\n"
   ]
  },
  {
   "cell_type": "markdown",
   "id": "45986d6c",
   "metadata": {},
   "source": [
    "However, `numpy` has a special data structure called the `ndarray`, which fixes both of these problems. `ndarrays` make math very easy for a collection of data elements. `ndarray` objects are also super efficient, and can do lots of operations across the array quickly. (Under the hood, a lot of `numpy` is written in C, which runs very quickly on loops.)"
   ]
  },
  {
   "cell_type": "code",
   "execution_count": 80,
   "id": "314df708",
   "metadata": {},
   "outputs": [
    {
     "name": "stdout",
     "output_type": "stream",
     "text": [
      "<class 'list'>\n",
      "<class 'numpy.ndarray'>\n",
      "[201.  202.2 203.3 204.4 205.5 206.6 207.7 208.8 209.9]\n",
      "[301.  302.2 303.3 304.4 305.5 306.6 307.7 308.8 309.9]\n"
     ]
    }
   ],
   "source": [
    "#We can build an ndarray in different ways. For example, we can convert a list to an ndarray\n",
    "print(type(sample_list))\n",
    "sample_list = np.array(sample_list)\n",
    "print(type(sample_list))\n",
    "print(sample_list)\n",
    "print(sample_list + 100)"
   ]
  },
  {
   "cell_type": "markdown",
   "id": "6c7e7caa",
   "metadata": {},
   "source": [
    "`ndarrays` get even better. If you want to do operations on ndarrays of the same size, `numpy` matches elements, one at a time.  This is called \"vectorization.\" It makes our code much easier ot read, because we don't need to loop over the data structs. We can also assign a variable name to an ndarray and use it in an equation."
   ]
  },
  {
   "cell_type": "code",
   "execution_count": 84,
   "id": "333557ce",
   "metadata": {},
   "outputs": [
    {
     "name": "stdout",
     "output_type": "stream",
     "text": [
      "3.141592653589793\n",
      "area of ellipse  0 :   0.3455751918948773\n",
      "area of ellipse  1 :   1.3823007675795091\n",
      "area of ellipse  2 :   3.110176727053895\n",
      "area of ellipse  3 :   5.529203070318037\n",
      "[0.34557519 1.38230077 3.11017673 5.52920307]\n"
     ]
    }
   ],
   "source": [
    "#in the last coding lab, we caulculated the area of an ellipse like this.\n",
    "major_axis = [1.1, 2.2, 3.3, 4.4 ]\n",
    "minor_axis = [0.1, 0.2, 0.3, 0.4 ]\n",
    "#BTW, numpy has some built in constants, like pi\n",
    "#so we don't need to define it for ourselves\n",
    "#pi = 3.14159\n",
    "print(np.pi)\n",
    "\n",
    "for ii in range(len( major_axis)):\n",
    "    major_axis_use = major_axis[ii]\n",
    "    minor_axis_use = minor_axis[ii]\n",
    "    area_of_ellipse = np.pi*major_axis_use*minor_axis_use\n",
    "    \n",
    "    print('area of ellipse ', ii,':  ', area_of_ellipse)\n",
    "\n",
    "\n",
    "#Notice how much easier it is to read with ndarrays. \n",
    "major_axis = np.array([1.1, 2.2, 3.3, 4.4 ])\n",
    "minor_axis = np.array([0.1, 0.2, 0.3, 0.4 ])\n",
    "areas = np.pi*major_axis*minor_axis\n",
    "print(areas)\n",
    "\n",
    "#The ndarrays also do the arithmetic faster than the lists. \n",
    "#We might notice this if we tried to do a lists with a million elements or so"
   ]
  },
  {
   "cell_type": "markdown",
   "id": "fe0319d8",
   "metadata": {},
   "source": [
    "By default, you should usually plan to use ndarrays in `numpy`. When doing data science with python or scientific computing, ndarrays are one of the best options. (I would argue they are the best overall, but that is an opinion.)\n",
    "\n",
    "Here are some other important and useful numpy functions.  See also the `numpy` tutorial for beginners (https://numpy.org/doc/stable/user/absolute_beginners.html) and `numpy` fundamentals (https://numpy.org/doc/stable/user/basics.html)."
   ]
  },
  {
   "cell_type": "code",
   "execution_count": 86,
   "id": "619db54e",
   "metadata": {},
   "outputs": [
    {
     "name": "stdout",
     "output_type": "stream",
     "text": [
      "new_array1: [ 1  2  3  4  5  6  7  8  9 10]\n",
      "new_array2: [ 1.   1.2  1.4  1.6  1.8  2.   2.2  2.4  2.6  2.8  3.   3.2  3.4  3.6\n",
      "  3.8  4.   4.2  4.4  4.6  4.8  5.   5.2  5.4  5.6  5.8  6.   6.2  6.4\n",
      "  6.6  6.8  7.   7.2  7.4  7.6  7.8  8.   8.2  8.4  8.6  8.8  9.   9.2\n",
      "  9.4  9.6  9.8 10.  10.2 10.4 10.6 10.8]\n",
      "lenght of new_array3: 30\n",
      "new_array3: [ 1.          1.34482759  1.68965517  2.03448276  2.37931034  2.72413793\n",
      "  3.06896552  3.4137931   3.75862069  4.10344828  4.44827586  4.79310345\n",
      "  5.13793103  5.48275862  5.82758621  6.17241379  6.51724138  6.86206897\n",
      "  7.20689655  7.55172414  7.89655172  8.24137931  8.5862069   8.93103448\n",
      "  9.27586207  9.62068966  9.96551724 10.31034483 10.65517241 11.        ]\n",
      "array_of_zeros: [0. 0. 0. 0. 0. 0. 0. 0. 0. 0.]\n",
      "array_of_ones [1. 1. 1. 1. 1. 1. 1. 1. 1. 1. 1. 1. 1. 1. 1.]\n"
     ]
    }
   ],
   "source": [
    "#ways to make an ndarray:\n",
    "\n",
    "#make a new array. The two arguments set the begining and end\n",
    "new_array1 = np.arange(1,11)\n",
    "print('new_array1:',new_array1)\n",
    "\n",
    "#the third argument sents the spacing\n",
    "new_array2 = np.arange(1,11, 0.2)\n",
    "print('new_array2:',new_array2)\n",
    "\n",
    "#if you don't know the spacing but know the number of elements that you want\n",
    "#in this case, we make it with 30 elements, evenly spaced\n",
    "new_array3 = np.linspace(1,11,30)\n",
    "print('lenght of new_array3:',len(new_array3))\n",
    "print('new_array3:',new_array3)\n",
    "\n",
    "\n",
    "#make a new array that is all ones or zeros\n",
    "#the argument gives the size of the array you need)\n",
    "array_of_zeros = np.zeros(10)\n",
    "print('array_of_zeros:',array_of_zeros)\n",
    "\n",
    "array_of_ones = np.ones(15)\n",
    "print('array_of_ones',array_of_ones)\n",
    "\n"
   ]
  },
  {
   "cell_type": "code",
   "execution_count": 87,
   "id": "df319777",
   "metadata": {},
   "outputs": [
    {
     "name": "stdout",
     "output_type": "stream",
     "text": [
      "The shape of x1d is: (3,)\n",
      "[0 1 2]\n",
      "The shape of x2d is: (3, 3)\n",
      "[[0 1 2]\n",
      " [3 4 5]\n",
      " [6 7 8]]\n",
      "The shape of x3d is: (3, 3, 3)\n",
      "[[[ 0  1  2]\n",
      "  [ 3  4  5]\n",
      "  [ 6  7  8]]\n",
      "\n",
      " [[ 9 10 11]\n",
      "  [12 13 14]\n",
      "  [15 16 17]]\n",
      "\n",
      " [[18 19 20]\n",
      "  [21 22 23]\n",
      "  [24 25 26]]]\n",
      "The shape of x4d is: (3, 3, 3, 3)\n",
      "[[[[ 0  1  2]\n",
      "   [ 3  4  5]\n",
      "   [ 6  7  8]]\n",
      "\n",
      "  [[ 9 10 11]\n",
      "   [12 13 14]\n",
      "   [15 16 17]]\n",
      "\n",
      "  [[18 19 20]\n",
      "   [21 22 23]\n",
      "   [24 25 26]]]\n",
      "\n",
      "\n",
      " [[[27 28 29]\n",
      "   [30 31 32]\n",
      "   [33 34 35]]\n",
      "\n",
      "  [[36 37 38]\n",
      "   [39 40 41]\n",
      "   [42 43 44]]\n",
      "\n",
      "  [[45 46 47]\n",
      "   [48 49 50]\n",
      "   [51 52 53]]]\n",
      "\n",
      "\n",
      " [[[54 55 56]\n",
      "   [57 58 59]\n",
      "   [60 61 62]]\n",
      "\n",
      "  [[63 64 65]\n",
      "   [66 67 68]\n",
      "   [69 70 71]]\n",
      "\n",
      "  [[72 73 74]\n",
      "   [75 76 77]\n",
      "   [78 79 80]]]]\n"
     ]
    }
   ],
   "source": [
    "#the `nd` part of `ndarray` is N-Dimensions. Here is a 1-D, 2-D, 3-D, and 4-D array\n",
    "x1d = np.arange(0,3)\n",
    "print('The shape of x1d is:',np.shape(x1d))\n",
    "print(x1d)\n",
    "x2d = np.arange(0,9).reshape(3,3)\n",
    "print('The shape of x2d is:',np.shape(x2d))\n",
    "print(x2d)\n",
    "x3d = np.arange(0,27).reshape(3,3,3)\n",
    "print('The shape of x3d is:',np.shape(x3d))\n",
    "print(x3d)\n",
    "x4d = np.arange(0,81).reshape(3,3,3,3)\n",
    "print('The shape of x4d is:',np.shape(x4d))\n",
    "print(x4d)"
   ]
  },
  {
   "cell_type": "code",
   "execution_count": 88,
   "id": "d02e5c7f",
   "metadata": {},
   "outputs": [
    {
     "name": "stdout",
     "output_type": "stream",
     "text": [
      "log_10 of x [0.         0.30103    0.47712125 0.60205999 0.69897    0.77815125\n",
      " 0.84509804 0.90308999 0.95424251 1.        ]\n",
      "log of x [0.         0.69314718 1.09861229 1.38629436 1.60943791 1.79175947\n",
      " 1.94591015 2.07944154 2.19722458 2.30258509]\n",
      "sqrt(x) [1.         1.41421356 1.73205081 2.         2.23606798 2.44948974\n",
      " 2.64575131 2.82842712 3.         3.16227766]\n",
      "x^2 [  1   4   9  16  25  36  49  64  81 100]\n",
      "e^x [2.71828183e+00 7.38905610e+00 2.00855369e+01 5.45981500e+01\n",
      " 1.48413159e+02 4.03428793e+02 1.09663316e+03 2.98095799e+03\n",
      " 8.10308393e+03 2.20264658e+04]\n"
     ]
    }
   ],
   "source": [
    "#numpy functions to act on ndarrays\n",
    "x = np.arange(1,11)\n",
    "print('log_10 of x', np.log10(x))\n",
    "print('log of x',    np.log(x))\n",
    "print('sqrt(x)',     np.sqrt(x))\n",
    "print('x^2', np.power(x,2))\n",
    "print('e^x', np.exp(x))"
   ]
  },
  {
   "cell_type": "markdown",
   "id": "1071e681",
   "metadata": {},
   "source": []
  }
 ],
 "metadata": {
  "kernelspec": {
   "display_name": "Python 3 (ipykernel)",
   "language": "python",
   "name": "python3"
  },
  "language_info": {
   "codemirror_mode": {
    "name": "ipython",
    "version": 3
   },
   "file_extension": ".py",
   "mimetype": "text/x-python",
   "name": "python",
   "nbconvert_exporter": "python",
   "pygments_lexer": "ipython3",
   "version": "3.10.4"
  }
 },
 "nbformat": 4,
 "nbformat_minor": 5
}
